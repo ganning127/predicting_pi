{
 "cells": [
  {
   "cell_type": "code",
   "execution_count": 2,
   "metadata": {},
   "outputs": [
    {
     "name": "stdout",
     "output_type": "stream",
     "text": [
      "pred_pi: 3.0602409638554215 || 166 || decimals: 0\n",
      "pred_pi: 3.101238164603059 || 2746 || decimals: 1\n"
     ]
    },
    {
     "ename": "KeyboardInterrupt",
     "evalue": "",
     "output_type": "error",
     "traceback": [
      "\u001b[0;31m---------------------------------------------------------------------------\u001b[0m",
      "\u001b[0;31mKeyboardInterrupt\u001b[0m                         Traceback (most recent call last)",
      "\u001b[1;32m/Users/ganningxu/programming/programming_ncssm/comp_phys/boba_midterm.ipynb Cell 1'\u001b[0m in \u001b[0;36m<module>\u001b[0;34m\u001b[0m\n\u001b[1;32m     <a href='vscode-notebook-cell:/Users/ganningxu/programming/programming_ncssm/comp_phys/boba_midterm.ipynb#ch0000000?line=28'>29</a>\u001b[0m             \u001b[39mprint\u001b[39m(\u001b[39m'\u001b[39m\u001b[39mpred_pi:\u001b[39m\u001b[39m'\u001b[39m, pred_pi, \u001b[39m'\u001b[39m\u001b[39m||\u001b[39m\u001b[39m'\u001b[39m, darts, \u001b[39m'\u001b[39m\u001b[39m|| decimals:\u001b[39m\u001b[39m'\u001b[39m, decimals)\n\u001b[1;32m     <a href='vscode-notebook-cell:/Users/ganningxu/programming/programming_ncssm/comp_phys/boba_midterm.ipynb#ch0000000?line=29'>30</a>\u001b[0m             decimals \u001b[39m+\u001b[39m\u001b[39m=\u001b[39m \u001b[39m1\u001b[39m\n\u001b[0;32m---> <a href='vscode-notebook-cell:/Users/ganningxu/programming/programming_ncssm/comp_phys/boba_midterm.ipynb#ch0000000?line=33'>34</a>\u001b[0m simulate()\n",
      "\u001b[1;32m/Users/ganningxu/programming/programming_ncssm/comp_phys/boba_midterm.ipynb Cell 1'\u001b[0m in \u001b[0;36msimulate\u001b[0;34m()\u001b[0m\n\u001b[1;32m     <a href='vscode-notebook-cell:/Users/ganningxu/programming/programming_ncssm/comp_phys/boba_midterm.ipynb#ch0000000?line=19'>20</a>\u001b[0m wrong \u001b[39m=\u001b[39m \u001b[39m0\u001b[39m\n\u001b[1;32m     <a href='vscode-notebook-cell:/Users/ganningxu/programming/programming_ncssm/comp_phys/boba_midterm.ipynb#ch0000000?line=20'>21</a>\u001b[0m \u001b[39mfor\u001b[39;00m _ \u001b[39min\u001b[39;00m \u001b[39mrange\u001b[39m(\u001b[39m100\u001b[39m):\n\u001b[0;32m---> <a href='vscode-notebook-cell:/Users/ganningxu/programming/programming_ncssm/comp_phys/boba_midterm.ipynb#ch0000000?line=21'>22</a>\u001b[0m     pred_pi \u001b[39m=\u001b[39m get_pi(darts)\n\u001b[1;32m     <a href='vscode-notebook-cell:/Users/ganningxu/programming/programming_ncssm/comp_phys/boba_midterm.ipynb#ch0000000?line=22'>23</a>\u001b[0m     \u001b[39mif\u001b[39;00m \u001b[39mint\u001b[39m(pred_pi \u001b[39m*\u001b[39m \u001b[39m10\u001b[39m \u001b[39m*\u001b[39m\u001b[39m*\u001b[39m decimals) \u001b[39m!=\u001b[39m \u001b[39mint\u001b[39m(math\u001b[39m.\u001b[39mpi \u001b[39m*\u001b[39m \u001b[39m10\u001b[39m \u001b[39m*\u001b[39m\u001b[39m*\u001b[39m decimals):\n\u001b[1;32m     <a href='vscode-notebook-cell:/Users/ganningxu/programming/programming_ncssm/comp_phys/boba_midterm.ipynb#ch0000000?line=23'>24</a>\u001b[0m         wrong \u001b[39m+\u001b[39m\u001b[39m=\u001b[39m \u001b[39m1\u001b[39m\n",
      "\u001b[1;32m/Users/ganningxu/programming/programming_ncssm/comp_phys/boba_midterm.ipynb Cell 1'\u001b[0m in \u001b[0;36mget_pi\u001b[0;34m(num_darts)\u001b[0m\n\u001b[1;32m      <a href='vscode-notebook-cell:/Users/ganningxu/programming/programming_ncssm/comp_phys/boba_midterm.ipynb#ch0000000?line=6'>7</a>\u001b[0m \u001b[39mfor\u001b[39;00m _ \u001b[39min\u001b[39;00m \u001b[39mrange\u001b[39m(num_darts):\n\u001b[1;32m      <a href='vscode-notebook-cell:/Users/ganningxu/programming/programming_ncssm/comp_phys/boba_midterm.ipynb#ch0000000?line=7'>8</a>\u001b[0m     x \u001b[39m=\u001b[39m random\u001b[39m.\u001b[39muniform(\u001b[39m-\u001b[39m\u001b[39m1\u001b[39m, \u001b[39m1\u001b[39m)\n\u001b[0;32m----> <a href='vscode-notebook-cell:/Users/ganningxu/programming/programming_ncssm/comp_phys/boba_midterm.ipynb#ch0000000?line=8'>9</a>\u001b[0m     y \u001b[39m=\u001b[39m random\u001b[39m.\u001b[39;49muniform(\u001b[39m-\u001b[39;49m\u001b[39m1\u001b[39;49m, \u001b[39m1\u001b[39;49m)\n\u001b[1;32m     <a href='vscode-notebook-cell:/Users/ganningxu/programming/programming_ncssm/comp_phys/boba_midterm.ipynb#ch0000000?line=9'>10</a>\u001b[0m     \u001b[39mif\u001b[39;00m (x \u001b[39m*\u001b[39m\u001b[39m*\u001b[39m \u001b[39m2\u001b[39m) \u001b[39m+\u001b[39m (y\u001b[39m*\u001b[39m\u001b[39m*\u001b[39m\u001b[39m2\u001b[39m) \u001b[39m<\u001b[39m\u001b[39m=\u001b[39m \u001b[39m1\u001b[39m: \u001b[39m# within circle\u001b[39;00m\n\u001b[1;32m     <a href='vscode-notebook-cell:/Users/ganningxu/programming/programming_ncssm/comp_phys/boba_midterm.ipynb#ch0000000?line=10'>11</a>\u001b[0m         hits \u001b[39m+\u001b[39m\u001b[39m=\u001b[39m \u001b[39m1\u001b[39m\n",
      "File \u001b[0;32m/usr/local/Cellar/python@3.9/3.9.9/Frameworks/Python.framework/Versions/3.9/lib/python3.9/random.py:513\u001b[0m, in \u001b[0;36mRandom.uniform\u001b[0;34m(self, a, b)\u001b[0m\n\u001b[1;32m    <a href='file:///usr/local/Cellar/python%403.9/3.9.9/Frameworks/Python.framework/Versions/3.9/lib/python3.9/random.py?line=510'>511</a>\u001b[0m \u001b[39mdef\u001b[39;00m \u001b[39muniform\u001b[39m(\u001b[39mself\u001b[39m, a, b):\n\u001b[1;32m    <a href='file:///usr/local/Cellar/python%403.9/3.9.9/Frameworks/Python.framework/Versions/3.9/lib/python3.9/random.py?line=511'>512</a>\u001b[0m     \u001b[39m\"\u001b[39m\u001b[39mGet a random number in the range [a, b) or [a, b] depending on rounding.\u001b[39m\u001b[39m\"\u001b[39m\n\u001b[0;32m--> <a href='file:///usr/local/Cellar/python%403.9/3.9.9/Frameworks/Python.framework/Versions/3.9/lib/python3.9/random.py?line=512'>513</a>\u001b[0m     \u001b[39mreturn\u001b[39;00m a \u001b[39m+\u001b[39m (b \u001b[39m-\u001b[39m a) \u001b[39m*\u001b[39m \u001b[39mself\u001b[39;49m\u001b[39m.\u001b[39;49mrandom()\n",
      "\u001b[0;31mKeyboardInterrupt\u001b[0m: "
     ]
    }
   ],
   "source": [
    "import math\n",
    "import random\n",
    "import numpy as np\n",
    "\n",
    "def get_pi(num_darts):\n",
    "    hits = 0\n",
    "    for _ in range(num_darts):\n",
    "        x = random.uniform(-1, 1)\n",
    "        y = random.uniform(-1, 1)\n",
    "        if (x ** 2) + (y**2) <= 1: # within circle\n",
    "            hits += 1\n",
    "        \n",
    "    return 4 * hits / num_darts\n",
    "\n",
    "def simulate():\n",
    "    darts = 1\n",
    "    decimals = 0\n",
    "    increments = [1, 10, 1000, 100000, 1000000, 10000000, 100000000]\n",
    "    while decimals <= 3:\n",
    "        wrong = 0\n",
    "        for _ in range(100):\n",
    "            pred_pi = get_pi(darts)\n",
    "            if int(pred_pi * 10 ** decimals) != int(math.pi * 10 ** decimals):\n",
    "                wrong += 1\n",
    "            if wrong > 5:\n",
    "                darts += increments[decimals]\n",
    "                break\n",
    "        if wrong <= 5:\n",
    "            print('pred_pi:', pred_pi, '||', darts, '|| decimals:', decimals)\n",
    "            decimals += 1\n",
    "\n",
    "\n",
    "\n",
    "simulate()"
   ]
  },
  {
   "cell_type": "code",
   "execution_count": null,
   "metadata": {},
   "outputs": [],
   "source": []
  }
 ],
 "metadata": {
  "interpreter": {
   "hash": "aee8b7b246df8f9039afb4144a1f6fd8d2ca17a180786b69acc140d282b71a49"
  },
  "kernelspec": {
   "display_name": "Python 3.9.9 64-bit",
   "language": "python",
   "name": "python3"
  },
  "language_info": {
   "codemirror_mode": {
    "name": "ipython",
    "version": 3
   },
   "file_extension": ".py",
   "mimetype": "text/x-python",
   "name": "python",
   "nbconvert_exporter": "python",
   "pygments_lexer": "ipython3",
   "version": "3.9.9"
  },
  "orig_nbformat": 4
 },
 "nbformat": 4,
 "nbformat_minor": 2
}
